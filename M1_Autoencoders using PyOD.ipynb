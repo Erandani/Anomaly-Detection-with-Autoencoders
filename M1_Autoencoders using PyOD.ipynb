{
 "cells": [
  {
   "cell_type": "code",
   "execution_count": 1,
   "metadata": {},
   "outputs": [
    {
     "name": "stderr",
     "output_type": "stream",
     "text": [
      "C:\\Users\\ErandaniD\\AppData\\Local\\Continuum\\anaconda3\\lib\\site-packages\\statsmodels\\tools\\_testing.py:19: FutureWarning: pandas.util.testing is deprecated. Use the functions in the public API at pandas.testing instead.\n",
      "  import pandas.util.testing as tm\n"
     ]
    }
   ],
   "source": [
    "import pandas as pd\n",
    "import numpy as np\n",
    "import matplotlib.pyplot as plt\n",
    "import seaborn as sb\n",
    "%matplotlib inline"
   ]
  },
  {
   "cell_type": "code",
   "execution_count": 2,
   "metadata": {},
   "outputs": [
    {
     "data": {
      "text/html": [
       "<div>\n",
       "<style scoped>\n",
       "    .dataframe tbody tr th:only-of-type {\n",
       "        vertical-align: middle;\n",
       "    }\n",
       "\n",
       "    .dataframe tbody tr th {\n",
       "        vertical-align: top;\n",
       "    }\n",
       "\n",
       "    .dataframe thead th {\n",
       "        text-align: right;\n",
       "    }\n",
       "</style>\n",
       "<table border=\"1\" class=\"dataframe\">\n",
       "  <thead>\n",
       "    <tr style=\"text-align: right;\">\n",
       "      <th></th>\n",
       "      <th>Time</th>\n",
       "      <th>V1</th>\n",
       "      <th>V2</th>\n",
       "      <th>V3</th>\n",
       "      <th>V4</th>\n",
       "      <th>V5</th>\n",
       "      <th>V6</th>\n",
       "      <th>V7</th>\n",
       "      <th>V8</th>\n",
       "      <th>V9</th>\n",
       "      <th>V10</th>\n",
       "      <th>V11</th>\n",
       "      <th>V12</th>\n",
       "      <th>V13</th>\n",
       "      <th>V14</th>\n",
       "      <th>V15</th>\n",
       "      <th>V16</th>\n",
       "      <th>V17</th>\n",
       "      <th>V18</th>\n",
       "      <th>V19</th>\n",
       "      <th>V20</th>\n",
       "      <th>V21</th>\n",
       "      <th>V22</th>\n",
       "      <th>V23</th>\n",
       "      <th>V24</th>\n",
       "      <th>V25</th>\n",
       "      <th>V26</th>\n",
       "      <th>V27</th>\n",
       "      <th>V28</th>\n",
       "      <th>Amount</th>\n",
       "      <th>Class</th>\n",
       "    </tr>\n",
       "  </thead>\n",
       "  <tbody>\n",
       "    <tr>\n",
       "      <th>0</th>\n",
       "      <td>0.0</td>\n",
       "      <td>-1.359807</td>\n",
       "      <td>-0.072781</td>\n",
       "      <td>2.536347</td>\n",
       "      <td>1.378155</td>\n",
       "      <td>-0.338321</td>\n",
       "      <td>0.462388</td>\n",
       "      <td>0.239599</td>\n",
       "      <td>0.098698</td>\n",
       "      <td>0.363787</td>\n",
       "      <td>0.090794</td>\n",
       "      <td>-0.551600</td>\n",
       "      <td>-0.617801</td>\n",
       "      <td>-0.991390</td>\n",
       "      <td>-0.311169</td>\n",
       "      <td>1.468177</td>\n",
       "      <td>-0.470401</td>\n",
       "      <td>0.207971</td>\n",
       "      <td>0.025791</td>\n",
       "      <td>0.403993</td>\n",
       "      <td>0.251412</td>\n",
       "      <td>-0.018307</td>\n",
       "      <td>0.277838</td>\n",
       "      <td>-0.110474</td>\n",
       "      <td>0.066928</td>\n",
       "      <td>0.128539</td>\n",
       "      <td>-0.189115</td>\n",
       "      <td>0.133558</td>\n",
       "      <td>-0.021053</td>\n",
       "      <td>149.62</td>\n",
       "      <td>0</td>\n",
       "    </tr>\n",
       "    <tr>\n",
       "      <th>1</th>\n",
       "      <td>0.0</td>\n",
       "      <td>1.191857</td>\n",
       "      <td>0.266151</td>\n",
       "      <td>0.166480</td>\n",
       "      <td>0.448154</td>\n",
       "      <td>0.060018</td>\n",
       "      <td>-0.082361</td>\n",
       "      <td>-0.078803</td>\n",
       "      <td>0.085102</td>\n",
       "      <td>-0.255425</td>\n",
       "      <td>-0.166974</td>\n",
       "      <td>1.612727</td>\n",
       "      <td>1.065235</td>\n",
       "      <td>0.489095</td>\n",
       "      <td>-0.143772</td>\n",
       "      <td>0.635558</td>\n",
       "      <td>0.463917</td>\n",
       "      <td>-0.114805</td>\n",
       "      <td>-0.183361</td>\n",
       "      <td>-0.145783</td>\n",
       "      <td>-0.069083</td>\n",
       "      <td>-0.225775</td>\n",
       "      <td>-0.638672</td>\n",
       "      <td>0.101288</td>\n",
       "      <td>-0.339846</td>\n",
       "      <td>0.167170</td>\n",
       "      <td>0.125895</td>\n",
       "      <td>-0.008983</td>\n",
       "      <td>0.014724</td>\n",
       "      <td>2.69</td>\n",
       "      <td>0</td>\n",
       "    </tr>\n",
       "    <tr>\n",
       "      <th>2</th>\n",
       "      <td>1.0</td>\n",
       "      <td>-1.358354</td>\n",
       "      <td>-1.340163</td>\n",
       "      <td>1.773209</td>\n",
       "      <td>0.379780</td>\n",
       "      <td>-0.503198</td>\n",
       "      <td>1.800499</td>\n",
       "      <td>0.791461</td>\n",
       "      <td>0.247676</td>\n",
       "      <td>-1.514654</td>\n",
       "      <td>0.207643</td>\n",
       "      <td>0.624501</td>\n",
       "      <td>0.066084</td>\n",
       "      <td>0.717293</td>\n",
       "      <td>-0.165946</td>\n",
       "      <td>2.345865</td>\n",
       "      <td>-2.890083</td>\n",
       "      <td>1.109969</td>\n",
       "      <td>-0.121359</td>\n",
       "      <td>-2.261857</td>\n",
       "      <td>0.524980</td>\n",
       "      <td>0.247998</td>\n",
       "      <td>0.771679</td>\n",
       "      <td>0.909412</td>\n",
       "      <td>-0.689281</td>\n",
       "      <td>-0.327642</td>\n",
       "      <td>-0.139097</td>\n",
       "      <td>-0.055353</td>\n",
       "      <td>-0.059752</td>\n",
       "      <td>378.66</td>\n",
       "      <td>0</td>\n",
       "    </tr>\n",
       "    <tr>\n",
       "      <th>3</th>\n",
       "      <td>1.0</td>\n",
       "      <td>-0.966272</td>\n",
       "      <td>-0.185226</td>\n",
       "      <td>1.792993</td>\n",
       "      <td>-0.863291</td>\n",
       "      <td>-0.010309</td>\n",
       "      <td>1.247203</td>\n",
       "      <td>0.237609</td>\n",
       "      <td>0.377436</td>\n",
       "      <td>-1.387024</td>\n",
       "      <td>-0.054952</td>\n",
       "      <td>-0.226487</td>\n",
       "      <td>0.178228</td>\n",
       "      <td>0.507757</td>\n",
       "      <td>-0.287924</td>\n",
       "      <td>-0.631418</td>\n",
       "      <td>-1.059647</td>\n",
       "      <td>-0.684093</td>\n",
       "      <td>1.965775</td>\n",
       "      <td>-1.232622</td>\n",
       "      <td>-0.208038</td>\n",
       "      <td>-0.108300</td>\n",
       "      <td>0.005274</td>\n",
       "      <td>-0.190321</td>\n",
       "      <td>-1.175575</td>\n",
       "      <td>0.647376</td>\n",
       "      <td>-0.221929</td>\n",
       "      <td>0.062723</td>\n",
       "      <td>0.061458</td>\n",
       "      <td>123.50</td>\n",
       "      <td>0</td>\n",
       "    </tr>\n",
       "    <tr>\n",
       "      <th>4</th>\n",
       "      <td>2.0</td>\n",
       "      <td>-1.158233</td>\n",
       "      <td>0.877737</td>\n",
       "      <td>1.548718</td>\n",
       "      <td>0.403034</td>\n",
       "      <td>-0.407193</td>\n",
       "      <td>0.095921</td>\n",
       "      <td>0.592941</td>\n",
       "      <td>-0.270533</td>\n",
       "      <td>0.817739</td>\n",
       "      <td>0.753074</td>\n",
       "      <td>-0.822843</td>\n",
       "      <td>0.538196</td>\n",
       "      <td>1.345852</td>\n",
       "      <td>-1.119670</td>\n",
       "      <td>0.175121</td>\n",
       "      <td>-0.451449</td>\n",
       "      <td>-0.237033</td>\n",
       "      <td>-0.038195</td>\n",
       "      <td>0.803487</td>\n",
       "      <td>0.408542</td>\n",
       "      <td>-0.009431</td>\n",
       "      <td>0.798278</td>\n",
       "      <td>-0.137458</td>\n",
       "      <td>0.141267</td>\n",
       "      <td>-0.206010</td>\n",
       "      <td>0.502292</td>\n",
       "      <td>0.219422</td>\n",
       "      <td>0.215153</td>\n",
       "      <td>69.99</td>\n",
       "      <td>0</td>\n",
       "    </tr>\n",
       "  </tbody>\n",
       "</table>\n",
       "</div>"
      ],
      "text/plain": [
       "   Time        V1        V2        V3        V4        V5        V6        V7  \\\n",
       "0   0.0 -1.359807 -0.072781  2.536347  1.378155 -0.338321  0.462388  0.239599   \n",
       "1   0.0  1.191857  0.266151  0.166480  0.448154  0.060018 -0.082361 -0.078803   \n",
       "2   1.0 -1.358354 -1.340163  1.773209  0.379780 -0.503198  1.800499  0.791461   \n",
       "3   1.0 -0.966272 -0.185226  1.792993 -0.863291 -0.010309  1.247203  0.237609   \n",
       "4   2.0 -1.158233  0.877737  1.548718  0.403034 -0.407193  0.095921  0.592941   \n",
       "\n",
       "         V8        V9       V10       V11       V12       V13       V14  \\\n",
       "0  0.098698  0.363787  0.090794 -0.551600 -0.617801 -0.991390 -0.311169   \n",
       "1  0.085102 -0.255425 -0.166974  1.612727  1.065235  0.489095 -0.143772   \n",
       "2  0.247676 -1.514654  0.207643  0.624501  0.066084  0.717293 -0.165946   \n",
       "3  0.377436 -1.387024 -0.054952 -0.226487  0.178228  0.507757 -0.287924   \n",
       "4 -0.270533  0.817739  0.753074 -0.822843  0.538196  1.345852 -1.119670   \n",
       "\n",
       "        V15       V16       V17       V18       V19       V20       V21  \\\n",
       "0  1.468177 -0.470401  0.207971  0.025791  0.403993  0.251412 -0.018307   \n",
       "1  0.635558  0.463917 -0.114805 -0.183361 -0.145783 -0.069083 -0.225775   \n",
       "2  2.345865 -2.890083  1.109969 -0.121359 -2.261857  0.524980  0.247998   \n",
       "3 -0.631418 -1.059647 -0.684093  1.965775 -1.232622 -0.208038 -0.108300   \n",
       "4  0.175121 -0.451449 -0.237033 -0.038195  0.803487  0.408542 -0.009431   \n",
       "\n",
       "        V22       V23       V24       V25       V26       V27       V28  \\\n",
       "0  0.277838 -0.110474  0.066928  0.128539 -0.189115  0.133558 -0.021053   \n",
       "1 -0.638672  0.101288 -0.339846  0.167170  0.125895 -0.008983  0.014724   \n",
       "2  0.771679  0.909412 -0.689281 -0.327642 -0.139097 -0.055353 -0.059752   \n",
       "3  0.005274 -0.190321 -1.175575  0.647376 -0.221929  0.062723  0.061458   \n",
       "4  0.798278 -0.137458  0.141267 -0.206010  0.502292  0.219422  0.215153   \n",
       "\n",
       "   Amount  Class  \n",
       "0  149.62      0  \n",
       "1    2.69      0  \n",
       "2  378.66      0  \n",
       "3  123.50      0  \n",
       "4   69.99      0  "
      ]
     },
     "execution_count": 2,
     "metadata": {},
     "output_type": "execute_result"
    }
   ],
   "source": [
    "df = pd.read_csv('creditcard.csv')\n",
    "pd.set_option('display.max_columns',None)\n",
    "df.head()"
   ]
  },
  {
   "cell_type": "code",
   "execution_count": 3,
   "metadata": {},
   "outputs": [],
   "source": [
    "#Features V1, V2, … V28 are the principal components obtained with PCA, \n",
    "#the only features which have not been transformed with PCA are 'Time' and 'Amount'. \n",
    "#The Time feature shows the absolute time of the transaction, which makes the data a bit hard to deal with here. \n",
    "#The feature 'Amount' is the transaction Amount, this feature can be used for example-dependant cost-senstive learning. \n",
    "#Feature 'Class' is the response variable and it takes value 1 in case of fraud and 0 otherwise."
   ]
  },
  {
   "cell_type": "code",
   "execution_count": 4,
   "metadata": {},
   "outputs": [
    {
     "data": {
      "text/plain": [
       "0    284315\n",
       "1       492\n",
       "Name: Class, dtype: int64"
      ]
     },
     "execution_count": 4,
     "metadata": {},
     "output_type": "execute_result"
    }
   ],
   "source": [
    "df['Class'].value_counts()"
   ]
  },
  {
   "cell_type": "markdown",
   "metadata": {},
   "source": [
    "Dataset is highly imblanced as frauds are rare cases"
   ]
  },
  {
   "cell_type": "markdown",
   "metadata": {},
   "source": [
    "##### Lets vishualize high-dimensional data, in 2-dimensional space using PCA"
   ]
  },
  {
   "cell_type": "code",
   "execution_count": 5,
   "metadata": {},
   "outputs": [],
   "source": [
    "from sklearn.preprocessing import StandardScaler\n",
    "from sklearn.decomposition import PCA"
   ]
  },
  {
   "cell_type": "code",
   "execution_count": 6,
   "metadata": {},
   "outputs": [],
   "source": [
    "df1 = df.drop('Time', axis=1)\n",
    "X1 = df1.drop('Class', axis=1)\n",
    "y1 = df1['Class']"
   ]
  },
  {
   "cell_type": "code",
   "execution_count": 7,
   "metadata": {},
   "outputs": [],
   "source": [
    "scaler = StandardScaler()\n",
    "X1 = pd.DataFrame(scaler.fit_transform(X1), columns=X1.columns)"
   ]
  },
  {
   "cell_type": "code",
   "execution_count": 9,
   "metadata": {},
   "outputs": [],
   "source": [
    "pca = PCA(n_components=2)\n",
    "df_pca = pd.DataFrame(pca.fit_transform(X1), columns=['pca1','pca2'])\n",
    "df_pca['Class'] = df['Class']"
   ]
  },
  {
   "cell_type": "code",
   "execution_count": 10,
   "metadata": {},
   "outputs": [
    {
     "data": {
      "image/png": "[encoded data removed]",
      "text/plain": [
       "<Figure size 402.375x360 with 1 Axes>"
      ]
     },
     "metadata": {
      "needs_background": "light"
     },
     "output_type": "display_data"
    }
   ],
   "source": [
    "col = {0:'g', 1:'r'}\n",
    "sb.FacetGrid(data=df_pca, hue='Class', palette=col, height=5).map(plt.scatter,'pca1','pca2').add_legend()\n",
    "plt.show()"
   ]
  },
  {
   "cell_type": "markdown",
   "metadata": {},
   "source": [
    "Initially data cannot be observed as 2 seperate cluaters"
   ]
  },
  {
   "cell_type": "markdown",
   "metadata": {},
   "source": [
    "#### Preparing Dataset"
   ]
  },
  {
   "cell_type": "markdown",
   "metadata": {},
   "source": [
    "We are going to train our Autoencoder model, only using non-fraudulent cases. So when we deploy trained model, as the model has only seen non-fraudulent cases, it generates higher error-score when fraudulent case occurs. "
   ]
  },
  {
   "cell_type": "code",
   "execution_count": 11,
   "metadata": {},
   "outputs": [],
   "source": [
    "df2 = df1[df1['Class']==0]\n",
    "X = df2.drop('Class', axis=1)\n",
    "y = df2['Class']"
   ]
  },
  {
   "cell_type": "code",
   "execution_count": 13,
   "metadata": {},
   "outputs": [],
   "source": [
    "from sklearn.model_selection import train_test_split"
   ]
  },
  {
   "cell_type": "code",
   "execution_count": 14,
   "metadata": {},
   "outputs": [],
   "source": [
    "X_train, X_test, y_train, y_test = train_test_split(X,y, test_size=0.2)"
   ]
  },
  {
   "cell_type": "code",
   "execution_count": 15,
   "metadata": {},
   "outputs": [],
   "source": [
    "df3= df1[df1['Class']==1]\n",
    "X_test_new = df3.drop('Class', axis=1)\n",
    "y_test_new = df3['Class']\n",
    "\n",
    "X_test_final = pd.concat([X_test,X_test_new], axis=0)\n",
    "y_test_final = pd.concat([y_test,y_test_new], axis=0)\n",
    "\n",
    "X_train = pd.DataFrame(scaler.fit_transform(X_train), columns=X_train.columns)\n",
    "X_test_final = pd.DataFrame(scaler.fit_transform(X_test_final), columns=X_test_final.columns)"
   ]
  },
  {
   "cell_type": "markdown",
   "metadata": {},
   "source": [
    "#### Fitting Auto Encoder Model"
   ]
  },
  {
   "cell_type": "code",
   "execution_count": 17,
   "metadata": {},
   "outputs": [
    {
     "name": "stderr",
     "output_type": "stream",
     "text": [
      "Using TensorFlow backend.\n"
     ]
    }
   ],
   "source": [
    "from pyod.models.auto_encoder import AutoEncoder"
   ]
  },
  {
   "cell_type": "markdown",
   "metadata": {},
   "source": [
    "##### (1) Building the model"
   ]
  },
  {
   "cell_type": "code",
   "execution_count": 18,
   "metadata": {},
   "outputs": [
    {
     "name": "stdout",
     "output_type": "stream",
     "text": [
      "Model: \"sequential_1\"\n",
      "_________________________________________________________________\n",
      "Layer (type)                 Output Shape              Param #   \n",
      "=================================================================\n",
      "dense_1 (Dense)              (None, 29)                870       \n",
      "_________________________________________________________________\n",
      "dropout_1 (Dropout)          (None, 29)                0         \n",
      "_________________________________________________________________\n",
      "dense_2 (Dense)              (None, 29)                870       \n",
      "_________________________________________________________________\n",
      "dropout_2 (Dropout)          (None, 29)                0         \n",
      "_________________________________________________________________\n",
      "dense_3 (Dense)              (None, 20)                600       \n",
      "_________________________________________________________________\n",
      "dropout_3 (Dropout)          (None, 20)                0         \n",
      "_________________________________________________________________\n",
      "dense_4 (Dense)              (None, 8)                 168       \n",
      "_________________________________________________________________\n",
      "dropout_4 (Dropout)          (None, 8)                 0         \n",
      "_________________________________________________________________\n",
      "dense_5 (Dense)              (None, 20)                180       \n",
      "_________________________________________________________________\n",
      "dropout_5 (Dropout)          (None, 20)                0         \n",
      "_________________________________________________________________\n",
      "dense_6 (Dense)              (None, 29)                609       \n",
      "=================================================================\n",
      "Total params: 3,297\n",
      "Trainable params: 3,297\n",
      "Non-trainable params: 0\n",
      "_________________________________________________________________\n",
      "None\n",
      "Train on 204706 samples, validate on 22746 samples\n",
      "Epoch 1/100\n",
      "204706/204706 [==============================] - 12s 60us/step - loss: 5.4602 - val_loss: 1.2372\n",
      "Epoch 2/100\n",
      "204706/204706 [==============================] - 12s 59us/step - loss: 1.0725 - val_loss: 1.0144\n",
      "Epoch 3/100\n",
      "204706/204706 [==============================] - 12s 61us/step - loss: 1.0012 - val_loss: 1.0074\n",
      "Epoch 4/100\n",
      "204706/204706 [==============================] - 11s 53us/step - loss: 0.9993 - val_loss: 1.0072\n",
      "Epoch 5/100\n",
      "204706/204706 [==============================] - 11s 53us/step - loss: 0.9992 - val_loss: 1.0071\n",
      "Epoch 6/100\n",
      "204706/204706 [==============================] - 12s 58us/step - loss: 0.9992 - val_loss: 1.0071\n",
      "Epoch 7/100\n",
      "204706/204706 [==============================] - 11s 55us/step - loss: 0.9992 - val_loss: 1.0071\n",
      "Epoch 8/100\n",
      "204706/204706 [==============================] - 11s 53us/step - loss: 0.9992 - val_loss: 1.0071\n",
      "Epoch 9/100\n",
      "204706/204706 [==============================] - 11s 53us/step - loss: 0.9992 - val_loss: 1.0071\n",
      "Epoch 10/100\n",
      "204706/204706 [==============================] - 11s 54us/step - loss: 0.9992 - val_loss: 1.0071\n",
      "Epoch 11/100\n",
      "204706/204706 [==============================] - 15s 75us/step - loss: 0.9992 - val_loss: 1.0071\n",
      "Epoch 12/100\n",
      "204706/204706 [==============================] - 12s 57us/step - loss: 0.9992 - val_loss: 1.0071\n",
      "Epoch 13/100\n",
      "204706/204706 [==============================] - 12s 60us/step - loss: 0.9992 - val_loss: 1.0071\n",
      "Epoch 14/100\n",
      "204706/204706 [==============================] - 12s 59us/step - loss: 0.9992 - val_loss: 1.0071\n",
      "Epoch 15/100\n",
      "204706/204706 [==============================] - 12s 57us/step - loss: 0.9992 - val_loss: 1.0071\n",
      "Epoch 16/100\n",
      "204706/204706 [==============================] - 12s 57us/step - loss: 0.9992 - val_loss: 1.0071\n",
      "Epoch 17/100\n",
      "204706/204706 [==============================] - 11s 56us/step - loss: 0.9992 - val_loss: 1.0071\n",
      "Epoch 18/100\n",
      "204706/204706 [==============================] - 10s 47us/step - loss: 0.9992 - val_loss: 1.0071\n",
      "Epoch 19/100\n",
      "204706/204706 [==============================] - 11s 54us/step - loss: 0.9992 - val_loss: 1.0071\n",
      "Epoch 20/100\n",
      "204706/204706 [==============================] - 10s 50us/step - loss: 0.9992 - val_loss: 1.0071\n",
      "Epoch 21/100\n",
      "204706/204706 [==============================] - 11s 55us/step - loss: 0.9992 - val_loss: 1.0071\n",
      "Epoch 22/100\n",
      "204706/204706 [==============================] - 10s 49us/step - loss: 0.9992 - val_loss: 1.0071\n",
      "Epoch 23/100\n",
      "204706/204706 [==============================] - 12s 58us/step - loss: 0.9992 - val_loss: 1.0071\n",
      "Epoch 24/100\n",
      "204706/204706 [==============================] - 12s 59us/step - loss: 0.9992 - val_loss: 1.0071\n",
      "Epoch 25/100\n",
      "204706/204706 [==============================] - 11s 53us/step - loss: 0.9992 - val_loss: 1.0071\n",
      "Epoch 26/100\n",
      "204706/204706 [==============================] - 11s 52us/step - loss: 0.9992 - val_loss: 1.0071\n",
      "Epoch 27/100\n",
      "204706/204706 [==============================] - 13s 61us/step - loss: 0.9992 - val_loss: 1.0071\n",
      "Epoch 28/100\n",
      "204706/204706 [==============================] - 11s 53us/step - loss: 0.9992 - val_loss: 1.0071\n",
      "Epoch 29/100\n",
      "204706/204706 [==============================] - 11s 55us/step - loss: 0.9992 - val_loss: 1.0071\n",
      "Epoch 30/100\n",
      "204706/204706 [==============================] - 12s 59us/step - loss: 0.9992 - val_loss: 1.0071\n",
      "Epoch 31/100\n",
      "204706/204706 [==============================] - 13s 62us/step - loss: 0.9992 - val_loss: 1.0071\n",
      "Epoch 32/100\n",
      "204706/204706 [==============================] - 12s 56us/step - loss: 0.9992 - val_loss: 1.0071\n",
      "Epoch 33/100\n",
      "204706/204706 [==============================] - 12s 57us/step - loss: 0.9992 - val_loss: 1.0071\n",
      "Epoch 34/100\n",
      "204706/204706 [==============================] - 13s 64us/step - loss: 0.9992 - val_loss: 1.0071\n",
      "Epoch 35/100\n",
      "204706/204706 [==============================] - 13s 62us/step - loss: 0.9992 - val_loss: 1.0071\n",
      "Epoch 36/100\n",
      "204706/204706 [==============================] - 12s 57us/step - loss: 0.9992 - val_loss: 1.0071\n",
      "Epoch 37/100\n",
      "204706/204706 [==============================] - 10s 49us/step - loss: 0.9992 - val_loss: 1.0071\n",
      "Epoch 38/100\n",
      "204706/204706 [==============================] - 10s 48us/step - loss: 0.9992 - val_loss: 1.0071\n",
      "Epoch 39/100\n",
      "204706/204706 [==============================] - 11s 52us/step - loss: 0.9992 - val_loss: 1.0071\n",
      "Epoch 40/100\n",
      "204706/204706 [==============================] - 12s 57us/step - loss: 0.9992 - val_loss: 1.0071\n",
      "Epoch 41/100\n",
      "204706/204706 [==============================] - 11s 51us/step - loss: 0.9992 - val_loss: 1.0071\n",
      "Epoch 42/100\n",
      "204706/204706 [==============================] - 10s 50us/step - loss: 0.9992 - val_loss: 1.0071\n",
      "Epoch 43/100\n",
      "204706/204706 [==============================] - 10s 51us/step - loss: 0.9992 - val_loss: 1.0071\n",
      "Epoch 44/100\n",
      "204706/204706 [==============================] - 10s 51us/step - loss: 0.9992 - val_loss: 1.0071\n",
      "Epoch 45/100\n",
      "204706/204706 [==============================] - 12s 57us/step - loss: 0.9992 - val_loss: 1.0071\n",
      "Epoch 46/100\n",
      "204706/204706 [==============================] - 13s 62us/step - loss: 0.9992 - val_loss: 1.0071\n",
      "Epoch 47/100\n",
      "204706/204706 [==============================] - 13s 64us/step - loss: 0.9992 - val_loss: 1.0071\n",
      "Epoch 48/100\n",
      "204706/204706 [==============================] - 12s 58us/step - loss: 0.9992 - val_loss: 1.0071\n",
      "Epoch 49/100\n",
      "204706/204706 [==============================] - 11s 52us/step - loss: 0.9992 - val_loss: 1.0071\n",
      "Epoch 50/100\n",
      "204706/204706 [==============================] - 11s 53us/step - loss: 0.9992 - val_loss: 1.0071\n",
      "Epoch 51/100\n",
      "204706/204706 [==============================] - 11s 55us/step - loss: 0.9992 - val_loss: 1.0071\n",
      "Epoch 52/100\n",
      "204706/204706 [==============================] - 11s 53us/step - loss: 0.9992 - val_loss: 1.0071\n",
      "Epoch 53/100\n",
      "204706/204706 [==============================] - 10s 50us/step - loss: 0.9992 - val_loss: 1.0071\n",
      "Epoch 54/100\n",
      "204706/204706 [==============================] - 10s 49us/step - loss: 0.9992 - val_loss: 1.0071\n",
      "Epoch 55/100\n",
      "204706/204706 [==============================] - 10s 51us/step - loss: 0.9992 - val_loss: 1.0071\n",
      "Epoch 56/100\n",
      "204706/204706 [==============================] - 10s 50us/step - loss: 0.9992 - val_loss: 1.0071\n",
      "Epoch 57/100\n",
      "204706/204706 [==============================] - 11s 53us/step - loss: 0.9992 - val_loss: 1.0071\n",
      "Epoch 58/100\n"
     ]
    },
    {
     "name": "stdout",
     "output_type": "stream",
     "text": [
      "204706/204706 [==============================] - 11s 51us/step - loss: 0.9992 - val_loss: 1.0071\n",
      "Epoch 59/100\n",
      "204706/204706 [==============================] - 10s 51us/step - loss: 0.9992 - val_loss: 1.0071\n",
      "Epoch 60/100\n",
      "204706/204706 [==============================] - 10s 51us/step - loss: 0.9992 - val_loss: 1.0071\n",
      "Epoch 61/100\n",
      "204706/204706 [==============================] - 10s 50us/step - loss: 0.9992 - val_loss: 1.0071\n",
      "Epoch 62/100\n",
      "204706/204706 [==============================] - 12s 59us/step - loss: 0.9992 - val_loss: 1.0071\n",
      "Epoch 63/100\n",
      "204706/204706 [==============================] - 11s 52us/step - loss: 0.9992 - val_loss: 1.0071\n",
      "Epoch 64/100\n",
      "204706/204706 [==============================] - 10s 49us/step - loss: 0.9992 - val_loss: 1.0071\n",
      "Epoch 65/100\n",
      "204706/204706 [==============================] - 10s 50us/step - loss: 0.9992 - val_loss: 1.0071\n",
      "Epoch 66/100\n",
      "204706/204706 [==============================] - 10s 48us/step - loss: 0.9992 - val_loss: 1.0071\n",
      "Epoch 67/100\n",
      "204706/204706 [==============================] - 10s 50us/step - loss: 0.9992 - val_loss: 1.0071\n",
      "Epoch 68/100\n",
      "204706/204706 [==============================] - 10s 50us/step - loss: 0.9992 - val_loss: 1.0071\n",
      "Epoch 69/100\n",
      "204706/204706 [==============================] - 15s 71us/step - loss: 0.9992 - val_loss: 1.0071\n",
      "Epoch 70/100\n",
      "204706/204706 [==============================] - 15s 74us/step - loss: 0.9992 - val_loss: 1.0071\n",
      "Epoch 71/100\n",
      "204706/204706 [==============================] - 17s 84us/step - loss: 0.9992 - val_loss: 1.0071\n",
      "Epoch 72/100\n",
      "204706/204706 [==============================] - 19s 92us/step - loss: 0.9992 - val_loss: 1.0071\n",
      "Epoch 73/100\n",
      "204706/204706 [==============================] - 17s 81us/step - loss: 0.9992 - val_loss: 1.0071\n",
      "Epoch 74/100\n",
      "204706/204706 [==============================] - 17s 82us/step - loss: 0.9992 - val_loss: 1.0071\n",
      "Epoch 75/100\n",
      "204706/204706 [==============================] - 16s 80us/step - loss: 0.9992 - val_loss: 1.0071\n",
      "Epoch 76/100\n",
      "204706/204706 [==============================] - 12s 60us/step - loss: 0.9992 - val_loss: 1.0071\n",
      "Epoch 77/100\n",
      "204706/204706 [==============================] - 12s 58us/step - loss: 0.9992 - val_loss: 1.0071\n",
      "Epoch 78/100\n",
      "204706/204706 [==============================] - 12s 58us/step - loss: 0.9992 - val_loss: 1.0071\n",
      "Epoch 79/100\n",
      "204706/204706 [==============================] - 12s 57us/step - loss: 0.9992 - val_loss: 1.0071\n",
      "Epoch 80/100\n",
      "204706/204706 [==============================] - 12s 58us/step - loss: 0.9992 - val_loss: 1.0071\n",
      "Epoch 81/100\n",
      "204706/204706 [==============================] - 13s 64us/step - loss: 0.9992 - val_loss: 1.0071\n",
      "Epoch 82/100\n",
      "204706/204706 [==============================] - 12s 60us/step - loss: 0.9992 - val_loss: 1.0071\n",
      "Epoch 83/100\n",
      "204706/204706 [==============================] - 12s 60us/step - loss: 0.9992 - val_loss: 1.0071\n",
      "Epoch 84/100\n",
      "204706/204706 [==============================] - 11s 54us/step - loss: 0.9992 - val_loss: 1.0071\n",
      "Epoch 85/100\n",
      "204706/204706 [==============================] - 12s 57us/step - loss: 0.9992 - val_loss: 1.0071\n",
      "Epoch 86/100\n",
      "204706/204706 [==============================] - 13s 64us/step - loss: 0.9992 - val_loss: 1.0071\n",
      "Epoch 87/100\n",
      "204706/204706 [==============================] - 11s 54us/step - loss: 0.9992 - val_loss: 1.0071\n",
      "Epoch 88/100\n",
      "204706/204706 [==============================] - 11s 52us/step - loss: 0.9992 - val_loss: 1.0071\n",
      "Epoch 89/100\n",
      "204706/204706 [==============================] - 11s 55us/step - loss: 0.9992 - val_loss: 1.0071\n",
      "Epoch 90/100\n",
      "204706/204706 [==============================] - 12s 59us/step - loss: 0.9992 - val_loss: 1.0071\n",
      "Epoch 91/100\n",
      "204706/204706 [==============================] - 13s 62us/step - loss: 0.9992 - val_loss: 1.0071\n",
      "Epoch 92/100\n",
      "204706/204706 [==============================] - 13s 61us/step - loss: 0.9992 - val_loss: 1.0071\n",
      "Epoch 93/100\n",
      "204706/204706 [==============================] - 12s 59us/step - loss: 0.9992 - val_loss: 1.0071\n",
      "Epoch 94/100\n",
      "204706/204706 [==============================] - 12s 59us/step - loss: 0.9992 - val_loss: 1.0071\n",
      "Epoch 95/100\n",
      "204706/204706 [==============================] - 12s 59us/step - loss: 0.9992 - val_loss: 1.0071\n",
      "Epoch 96/100\n",
      "204706/204706 [==============================] - 12s 58us/step - loss: 0.9992 - val_loss: 1.0071\n",
      "Epoch 97/100\n",
      "204706/204706 [==============================] - 13s 64us/step - loss: 0.9992 - val_loss: 1.0071\n",
      "Epoch 98/100\n",
      "204706/204706 [==============================] - 12s 59us/step - loss: 0.9992 - val_loss: 1.0071\n",
      "Epoch 99/100\n",
      "204706/204706 [==============================] - 12s 58us/step - loss: 0.9992 - val_loss: 1.0071\n",
      "Epoch 100/100\n",
      "204706/204706 [==============================] - 12s 59us/step - loss: 0.9992 - val_loss: 1.0071\n"
     ]
    },
    {
     "data": {
      "text/plain": [
       "AutoEncoder(batch_size=32, contamination=0.1, dropout_rate=0.2, epochs=100,\n",
       "      hidden_activation='relu', hidden_neurons=[20, 8, 20],\n",
       "      l2_regularizer=0.1,\n",
       "      loss=<function mean_squared_error at 0x000001A274540D38>,\n",
       "      optimizer='adam', output_activation='sigmoid', preprocessing=True,\n",
       "      random_state=None, validation_size=0.1, verbose=1)"
      ]
     },
     "execution_count": 18,
     "metadata": {},
     "output_type": "execute_result"
    }
   ],
   "source": [
    "#define layers symetrically\n",
    "clf1 = AutoEncoder(hidden_neurons =[20, 8, 20])\n",
    "clf1.fit(X_train)"
   ]
  },
  {
   "cell_type": "markdown",
   "metadata": {},
   "source": [
    "##### (2) Determine the Cut Point"
   ]
  },
  {
   "cell_type": "markdown",
   "metadata": {},
   "source": [
    "> Now we apply the trained model Clf1 to predict the anomaly score for each observation in the test data\n",
    "\n",
    "> An outlier is a point that is distant from other points, so the outlier score is defined by distance\n",
    "\n",
    "> The PyOD function \".decision_function() calculates the distance or the anomaly score for each data point"
   ]
  },
  {
   "cell_type": "code",
   "execution_count": 23,
   "metadata": {},
   "outputs": [
    {
     "data": {
      "image/png": "[encoded data removed]",
      "text/plain": [
       "<Figure size 432x288 with 1 Axes>"
      ]
     },
     "metadata": {
      "needs_background": "light"
     },
     "output_type": "display_data"
    }
   ],
   "source": [
    "# Get the outlier scores for the train data\n",
    "y_train_scores = clf1.decision_scores_  \n",
    "\n",
    "# Predict the anomaly scores test data\n",
    "y_test_scores = clf1.decision_function(X_test_final)  # outlier scores\n",
    "y_test_scores = pd.Series(y_test_scores)\n",
    "\n",
    "\n",
    "plt.hist(y_test_scores, bins=100)  \n",
    "plt.title(\"Histogram for Model Clf1 Anomaly Scores\")\n",
    "plt.xlabel(\"Anomaly Scores\")\n",
    "plt.show()"
   ]
  },
  {
   "cell_type": "markdown",
   "metadata": {},
   "source": [
    "Zooming y_test_scores>25 distribution, to have a clear view :"
   ]
  },
  {
   "cell_type": "code",
   "execution_count": 39,
   "metadata": {},
   "outputs": [],
   "source": [
    "import warnings\n",
    "warnings.filterwarnings('ignore')"
   ]
  },
  {
   "cell_type": "code",
   "execution_count": 26,
   "metadata": {},
   "outputs": [],
   "source": [
    "y_test_scores1 = y_test_scores[y_test_scores>25]"
   ]
  },
  {
   "cell_type": "code",
   "execution_count": 48,
   "metadata": {},
   "outputs": [
    {
     "data": {
      "image/png": "[encoded data removed]",
      "text/plain": [
       "<Figure size 432x288 with 1 Axes>"
      ]
     },
     "metadata": {
      "needs_background": "light"
     },
     "output_type": "display_data"
    }
   ],
   "source": [
    "N, bins, patches= plt.hist(y_test_scores1, bins=75)\n",
    "\n",
    "cmap = plt.get_cmap('jet')\n",
    "low = cmap(0.1)\n",
    "medium =cmap(0.9)\n",
    "\n",
    "for i in range(0,12):\n",
    "    patches[i].set_facecolor(low)\n",
    "for i in range(13,75):\n",
    "    patches[i].set_facecolor(medium)\n",
    "\n",
    "\n",
    "\n",
    "plt.xlabel(\"Anomaly Scores\")\n",
    "plt.title(\"Histogram for Model Clf1 Anomaly Scores(y_test_scores>25)\")\n",
    "ax = plt.subplot(111)  \n",
    "ax.spines[\"top\"].set_visible(False)  \n",
    "ax.spines[\"right\"].set_visible(False)\n",
    "plt.show()"
   ]
  },
  {
   "cell_type": "markdown",
   "metadata": {},
   "source": [
    "we can see the high scores corresponds to low frequency are outliers.\n",
    "\n",
    "We can choose 50 to be the cut point and those >=50 to be outliers."
   ]
  },
  {
   "cell_type": "markdown",
   "metadata": {},
   "source": [
    "##### (3) Get the Summary Statistics by Cluster"
   ]
  },
  {
   "cell_type": "code",
   "execution_count": 50,
   "metadata": {},
   "outputs": [
    {
     "name": "stdout",
     "output_type": "stream",
     "text": [
      "0    57329\n",
      "1       26\n",
      "Name: cluster, dtype: int64\n"
     ]
    },
    {
     "data": {
      "text/html": [
       "<div>\n",
       "<style scoped>\n",
       "    .dataframe tbody tr th:only-of-type {\n",
       "        vertical-align: middle;\n",
       "    }\n",
       "\n",
       "    .dataframe tbody tr th {\n",
       "        vertical-align: top;\n",
       "    }\n",
       "\n",
       "    .dataframe thead th {\n",
       "        text-align: right;\n",
       "    }\n",
       "</style>\n",
       "<table border=\"1\" class=\"dataframe\">\n",
       "  <thead>\n",
       "    <tr style=\"text-align: right;\">\n",
       "      <th></th>\n",
       "      <th>V1</th>\n",
       "      <th>V2</th>\n",
       "      <th>V3</th>\n",
       "      <th>V4</th>\n",
       "      <th>V5</th>\n",
       "      <th>V6</th>\n",
       "      <th>V7</th>\n",
       "      <th>V8</th>\n",
       "      <th>V9</th>\n",
       "      <th>V10</th>\n",
       "      <th>V11</th>\n",
       "      <th>V12</th>\n",
       "      <th>V13</th>\n",
       "      <th>V14</th>\n",
       "      <th>V15</th>\n",
       "      <th>V16</th>\n",
       "      <th>V17</th>\n",
       "      <th>V18</th>\n",
       "      <th>V19</th>\n",
       "      <th>V20</th>\n",
       "      <th>V21</th>\n",
       "      <th>V22</th>\n",
       "      <th>V23</th>\n",
       "      <th>V24</th>\n",
       "      <th>V25</th>\n",
       "      <th>V26</th>\n",
       "      <th>V27</th>\n",
       "      <th>V28</th>\n",
       "      <th>Amount</th>\n",
       "      <th>score</th>\n",
       "    </tr>\n",
       "    <tr>\n",
       "      <th>cluster</th>\n",
       "      <th></th>\n",
       "      <th></th>\n",
       "      <th></th>\n",
       "      <th></th>\n",
       "      <th></th>\n",
       "      <th></th>\n",
       "      <th></th>\n",
       "      <th></th>\n",
       "      <th></th>\n",
       "      <th></th>\n",
       "      <th></th>\n",
       "      <th></th>\n",
       "      <th></th>\n",
       "      <th></th>\n",
       "      <th></th>\n",
       "      <th></th>\n",
       "      <th></th>\n",
       "      <th></th>\n",
       "      <th></th>\n",
       "      <th></th>\n",
       "      <th></th>\n",
       "      <th></th>\n",
       "      <th></th>\n",
       "      <th></th>\n",
       "      <th></th>\n",
       "      <th></th>\n",
       "      <th></th>\n",
       "      <th></th>\n",
       "      <th></th>\n",
       "      <th></th>\n",
       "    </tr>\n",
       "  </thead>\n",
       "  <tbody>\n",
       "    <tr>\n",
       "      <th>0</th>\n",
       "      <td>0.004717</td>\n",
       "      <td>0.002162</td>\n",
       "      <td>0.003550</td>\n",
       "      <td>-0.002172</td>\n",
       "      <td>0.003454</td>\n",
       "      <td>-0.002652</td>\n",
       "      <td>0.000483</td>\n",
       "      <td>0.007415</td>\n",
       "      <td>0.000408</td>\n",
       "      <td>0.001704</td>\n",
       "      <td>-0.000973</td>\n",
       "      <td>0.001017</td>\n",
       "      <td>0.000016</td>\n",
       "      <td>0.001051</td>\n",
       "      <td>-0.000462</td>\n",
       "      <td>0.000197</td>\n",
       "      <td>0.001722</td>\n",
       "      <td>0.000876</td>\n",
       "      <td>-0.000008</td>\n",
       "      <td>0.000613</td>\n",
       "      <td>0.000216</td>\n",
       "      <td>0.000456</td>\n",
       "      <td>-0.000377</td>\n",
       "      <td>-0.000192</td>\n",
       "      <td>0.000275</td>\n",
       "      <td>0.000179</td>\n",
       "      <td>0.001470</td>\n",
       "      <td>-0.002883</td>\n",
       "      <td>-0.005106</td>\n",
       "      <td>4.439544</td>\n",
       "    </tr>\n",
       "    <tr>\n",
       "      <th>1</th>\n",
       "      <td>-10.401116</td>\n",
       "      <td>-4.766502</td>\n",
       "      <td>-7.827575</td>\n",
       "      <td>4.788321</td>\n",
       "      <td>-7.614875</td>\n",
       "      <td>5.848243</td>\n",
       "      <td>-1.064380</td>\n",
       "      <td>-16.349694</td>\n",
       "      <td>-0.899466</td>\n",
       "      <td>-3.757952</td>\n",
       "      <td>2.144405</td>\n",
       "      <td>-2.242284</td>\n",
       "      <td>-0.034873</td>\n",
       "      <td>-2.316920</td>\n",
       "      <td>1.019134</td>\n",
       "      <td>-0.433677</td>\n",
       "      <td>-3.796129</td>\n",
       "      <td>-1.930961</td>\n",
       "      <td>0.018224</td>\n",
       "      <td>-1.352439</td>\n",
       "      <td>-0.476840</td>\n",
       "      <td>-1.006023</td>\n",
       "      <td>0.831783</td>\n",
       "      <td>0.422286</td>\n",
       "      <td>-0.605836</td>\n",
       "      <td>-0.394749</td>\n",
       "      <td>-3.241688</td>\n",
       "      <td>6.356315</td>\n",
       "      <td>11.258829</td>\n",
       "      <td>65.740143</td>\n",
       "    </tr>\n",
       "  </tbody>\n",
       "</table>\n",
       "</div>"
      ],
      "text/plain": [
       "                V1        V2        V3        V4        V5        V6  \\\n",
       "cluster                                                                \n",
       "0         0.004717  0.002162  0.003550 -0.002172  0.003454 -0.002652   \n",
       "1       -10.401116 -4.766502 -7.827575  4.788321 -7.614875  5.848243   \n",
       "\n",
       "               V7         V8        V9       V10       V11       V12  \\\n",
       "cluster                                                                \n",
       "0        0.000483   0.007415  0.000408  0.001704 -0.000973  0.001017   \n",
       "1       -1.064380 -16.349694 -0.899466 -3.757952  2.144405 -2.242284   \n",
       "\n",
       "              V13       V14       V15       V16       V17       V18       V19  \\\n",
       "cluster                                                                         \n",
       "0        0.000016  0.001051 -0.000462  0.000197  0.001722  0.000876 -0.000008   \n",
       "1       -0.034873 -2.316920  1.019134 -0.433677 -3.796129 -1.930961  0.018224   \n",
       "\n",
       "              V20       V21       V22       V23       V24       V25       V26  \\\n",
       "cluster                                                                         \n",
       "0        0.000613  0.000216  0.000456 -0.000377 -0.000192  0.000275  0.000179   \n",
       "1       -1.352439 -0.476840 -1.006023  0.831783  0.422286 -0.605836 -0.394749   \n",
       "\n",
       "              V27       V28     Amount      score  \n",
       "cluster                                            \n",
       "0        0.001470 -0.002883  -0.005106   4.439544  \n",
       "1       -3.241688  6.356315  11.258829  65.740143  "
      ]
     },
     "execution_count": 50,
     "metadata": {},
     "output_type": "execute_result"
    }
   ],
   "source": [
    "#assign less than 50 anomaly scores to Cluster 0, and to Cluster 1 for those above 50\n",
    "\n",
    "df_test = X_test_final.copy()\n",
    "df_test['score'] = y_test_scores\n",
    "df_test['cluster'] = df_test['score'].apply(lambda x: 1 if x > 50 else 0 )\n",
    "print(df_test['cluster'].value_counts())\n",
    "\n",
    "df_test.groupby('cluster').mean()"
   ]
  },
  {
   "cell_type": "markdown",
   "metadata": {},
   "source": [
    "the results show the summary statistics of Cluster ‘1’ (the abnormal cluster) is highly deviated from those of Cluster ‘0’ (the normal cluster).\n",
    "\n",
    "The observations in Cluster 1 are outliers."
   ]
  },
  {
   "cell_type": "code",
   "execution_count": null,
   "metadata": {},
   "outputs": [],
   "source": []
  }
 ],
 "metadata": {
  "kernelspec": {
   "display_name": "Python 3",
   "language": "python",
   "name": "python3"
  },
  "language_info": {
   "codemirror_mode": {
    "name": "ipython",
    "version": 3
   },
   "file_extension": ".py",
   "mimetype": "text/x-python",
   "name": "python",
   "nbconvert_exporter": "python",
   "pygments_lexer": "ipython3",
   "version": "3.7.4"
  }
 },
 "nbformat": 4,
 "nbformat_minor": 2
}
